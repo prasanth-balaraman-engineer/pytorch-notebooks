{
 "cells": [
  {
   "cell_type": "code",
   "execution_count": 1,
   "id": "cc9fc74a-0746-4b36-9efa-69603343e3ba",
   "metadata": {},
   "outputs": [
    {
     "data": {
      "text/plain": [
       "'2.4.0'"
      ]
     },
     "execution_count": 1,
     "metadata": {},
     "output_type": "execute_result"
    }
   ],
   "source": [
    "import torch\n",
    "import torch.nn as nn\n",
    "import matplotlib.pyplot as plt\n",
    "\n",
    "torch.__version__"
   ]
  },
  {
   "cell_type": "code",
   "execution_count": 2,
   "id": "6886d32f-5ebb-45f9-ad2d-86fa0818a318",
   "metadata": {},
   "outputs": [
    {
     "name": "stdout",
     "output_type": "stream",
     "text": [
      "Shape of X: torch.Size([50, 1])\n",
      "Shape of y: torch.Size([50, 1])\n",
      "tensor([[0.0000],\n",
      "        [0.0200],\n",
      "        [0.0400],\n",
      "        [0.0600],\n",
      "        [0.0800]])\n",
      "tensor([[0.3000],\n",
      "        [0.3140],\n",
      "        [0.3280],\n",
      "        [0.3420],\n",
      "        [0.3560]])\n"
     ]
    }
   ],
   "source": [
    "# Creating dataset of straight line based on know parameters \n",
    "weight = 0.7\n",
    "bias = 0.3\n",
    "\n",
    "X = torch.arange(start=0, end=1, step=0.02).unsqueeze(dim=1)\n",
    "y = X * weight + bias\n",
    "\n",
    "print(f\"Shape of X: {X.shape}\")\n",
    "print(f\"Shape of y: {y.shape}\")\n",
    "\n",
    "print(X[:5])\n",
    "print(y[:5])"
   ]
  },
  {
   "cell_type": "code",
   "execution_count": 3,
   "id": "d4c8c9ad-958c-4efa-8c9c-2951a5d6be88",
   "metadata": {},
   "outputs": [
    {
     "name": "stdout",
     "output_type": "stream",
     "text": [
      "Shape of X_train: torch.Size([40, 1])\n",
      "Shape of y_train: torch.Size([40, 1])\n",
      "Shape of X_test: torch.Size([10, 1])\n",
      "Shape of y_test: torch.Size([10, 1])\n"
     ]
    }
   ],
   "source": [
    "# Spliting the dataset into train and test dataset\n",
    "train_split = int(0.8 * len(X))\n",
    "X_train, y_train = X[:train_split], y[:train_split]\n",
    "X_test, y_test = X[train_split:], y[train_split:]\n",
    "\n",
    "print(f\"Shape of X_train: {X_train.shape}\")\n",
    "print(f\"Shape of y_train: {y_train.shape}\")\n",
    "print(f\"Shape of X_test: {X_test.shape}\")\n",
    "print(f\"Shape of y_test: {y_test.shape}\")"
   ]
  },
  {
   "cell_type": "code",
   "execution_count": 4,
   "id": "f680e275-1b57-4607-b9fe-a2fb2ecc3666",
   "metadata": {},
   "outputs": [],
   "source": [
    "def plot_predictions(\n",
    "    train_data=X_train,\n",
    "    train_labels=y_train,\n",
    "    test_data=X_test,\n",
    "    test_labels=y_test,\n",
    "    predictions=None,\n",
    "):\n",
    "    plt.scatter(train_data, train_labels, c=\"b\", s=4, label=\"Training data\")\n",
    "    plt.scatter(test_data, test_labels, c=\"g\", s=4, label=\"Test data\")\n",
    "    \n",
    "    if predictions is not None:\n",
    "        plt.scatter(test_data, predictions, c=\"r\", s=4, label=\"Predictions\")\n",
    "        \n",
    "    plt.legend()"
   ]
  },
  {
   "cell_type": "code",
   "execution_count": 5,
   "id": "bc8dd8f5-6d8b-4e78-92fb-5124b6d4e5d8",
   "metadata": {},
   "outputs": [
    {
     "data": {
      "image/png": "[encoded data removed]",
      "text/plain": [
       "<Figure size 640x480 with 1 Axes>"
      ]
     },
     "metadata": {},
     "output_type": "display_data"
    }
   ],
   "source": [
    "plot_predictions()"
   ]
  },
  {
   "cell_type": "code",
   "execution_count": 6,
   "id": "247323d3-9c56-4e92-bf38-2f4a6f7b0474",
   "metadata": {},
   "outputs": [],
   "source": [
    "# Creating PyTorch Linear Regression model\n",
    "class LinearRegressionModel(nn.Module):\n",
    "    def __init__(self):\n",
    "        super().__init__()\n",
    "        self.weight = nn.Parameter(torch.randn(1, dtype=torch.float32), requires_grad=True)\n",
    "        self.bias = nn.Parameter(torch.randn(1, dtype=torch.float32), requires_grad=True)\n",
    "\n",
    "    def forward(self, x: torch.Tensor) -> torch.Tensor:\n",
    "        return self.weight * x + self.bias"
   ]
  },
  {
   "cell_type": "code",
   "execution_count": 7,
   "id": "c12e2e69-37ee-48ae-9101-eef7e0a5eae0",
   "metadata": {},
   "outputs": [
    {
     "data": {
      "text/plain": [
       "[Parameter containing:\n",
       " tensor([0.3367], requires_grad=True),\n",
       " Parameter containing:\n",
       " tensor([0.1288], requires_grad=True)]"
      ]
     },
     "execution_count": 7,
     "metadata": {},
     "output_type": "execute_result"
    }
   ],
   "source": [
    "# Setting manual seed since the parameters are randomly initialized\n",
    "torch.manual_seed(seed=42)\n",
    "\n",
    "# Creating linear regression model instance\n",
    "model_0 = LinearRegressionModel()\n",
    "\n",
    "# Printing the nn.Module parameters\n",
    "list(model_0.parameters())"
   ]
  },
  {
   "cell_type": "code",
   "execution_count": 8,
   "id": "16833aea-d998-4f80-a785-b43128990b45",
   "metadata": {},
   "outputs": [
    {
     "data": {
      "text/plain": [
       "[('weight',\n",
       "  Parameter containing:\n",
       "  tensor([0.3367], requires_grad=True)),\n",
       " ('bias',\n",
       "  Parameter containing:\n",
       "  tensor([0.1288], requires_grad=True))]"
      ]
     },
     "execution_count": 8,
     "metadata": {},
     "output_type": "execute_result"
    }
   ],
   "source": [
    "list(model_0.named_parameters())"
   ]
  },
  {
   "cell_type": "code",
   "execution_count": 9,
   "id": "76ad3fbb-ba24-4fba-bccb-5035ac1951c7",
   "metadata": {},
   "outputs": [
    {
     "data": {
      "text/plain": [
       "OrderedDict([('weight', tensor([0.3367])), ('bias', tensor([0.1288]))])"
      ]
     },
     "execution_count": 9,
     "metadata": {},
     "output_type": "execute_result"
    }
   ],
   "source": [
    "model_0.state_dict()"
   ]
  },
  {
   "cell_type": "markdown",
   "id": "c4ab807e-07b8-4bab-b12e-bdd84dd82edd",
   "metadata": {},
   "source": [
    "Note in both `nn.Module.parameters()` and `nn.Module.named_parameters()` the return values are parameters not the actual tensor within the parameter.\n",
    "\n",
    "But the `nn.Module.state_dict()` returns the tensor."
   ]
  },
  {
   "cell_type": "code",
   "execution_count": 10,
   "id": "27d979fe-c8fe-4617-8591-bfc5b42ef155",
   "metadata": {},
   "outputs": [
    {
     "name": "stdout",
     "output_type": "stream",
     "text": [
      "Number of testing samples: 10\n",
      "Number of predictions made: 10\n",
      "tensor([[0.3982],\n",
      "        [0.4049],\n",
      "        [0.4116],\n",
      "        [0.4184],\n",
      "        [0.4251],\n",
      "        [0.4318],\n",
      "        [0.4386],\n",
      "        [0.4453],\n",
      "        [0.4520],\n",
      "        [0.4588]])\n"
     ]
    }
   ],
   "source": [
    "# torch.inference_mode() does similar work as torch.no_grad() but the torch.inference_mode() is faster\n",
    "# compared to torch.no_grad() while `no_grad` excludes operations being tracked by Autograd, \n",
    "# `inference_mode` reduces overheads by disabling two Autograd mechanims - version counting and\n",
    "# metadata tracking. \n",
    "# Please see following tweet from PyTorch: https://x.com/PyTorch/status/1437838231505096708?s=20 \n",
    "with torch.inference_mode():\n",
    "    y_preds = model_0(X_test)\n",
    "\n",
    "print(f\"Number of testing samples: {len(X_test)}\")\n",
    "print(f\"Number of predictions made: {len(y_preds)}\")\n",
    "print(y_preds)"
   ]
  },
  {
   "cell_type": "code",
   "execution_count": 11,
   "id": "6b56185f-a40b-47fb-8acf-cd8bc9b999db",
   "metadata": {},
   "outputs": [
    {
     "data": {
      "image/png": "[encoded data removed]",
      "text/plain": [
       "<Figure size 640x480 with 1 Axes>"
      ]
     },
     "metadata": {},
     "output_type": "display_data"
    }
   ],
   "source": [
    "plot_predictions(predictions=y_preds)"
   ]
  },
  {
   "cell_type": "code",
   "execution_count": 12,
   "id": "cd16bfc8-0aaf-4bc3-bc29-ccb0db6c2139",
   "metadata": {},
   "outputs": [],
   "source": [
    "loss_fn = nn.L1Loss()\n",
    "\n",
    "optimizer = torch.optim.SGD(model_0.parameters(), lr=0.01)"
   ]
  },
  {
   "cell_type": "code",
   "execution_count": 13,
   "id": "8a47c7ee-7eec-4978-94c4-8b5429d899fa",
   "metadata": {},
   "outputs": [
    {
     "name": "stdout",
     "output_type": "stream",
     "text": [
      "Epoch: 10 | MAE Train Loss: 0.20919232070446014 | MAE Test Loss: 0.3598262071609497\n",
      "Epoch: 20 | MAE Train Loss: 0.09681282937526703 | MAE Test Loss: 0.22817862033843994\n",
      "Epoch: 30 | MAE Train Loss: 0.0545857734978199 | MAE Test Loss: 0.14967669546604156\n",
      "Epoch: 40 | MAE Train Loss: 0.04591871052980423 | MAE Test Loss: 0.11538954079151154\n",
      "Epoch: 50 | MAE Train Loss: 0.04202762991189957 | MAE Test Loss: 0.10030148178339005\n",
      "Epoch: 60 | MAE Train Loss: 0.0385376438498497 | MAE Test Loss: 0.08928143978118896\n",
      "Epoch: 70 | MAE Train Loss: 0.035098835825920105 | MAE Test Loss: 0.0810088962316513\n",
      "Epoch: 80 | MAE Train Loss: 0.03166865184903145 | MAE Test Loss: 0.07342323660850525\n",
      "Epoch: 90 | MAE Train Loss: 0.028234023600816727 | MAE Test Loss: 0.06515069305896759\n",
      "Epoch: 100 | MAE Train Loss: 0.02479521930217743 | MAE Test Loss: 0.05687814950942993\n",
      "Epoch: 110 | MAE Train Loss: 0.02136671543121338 | MAE Test Loss: 0.04929249361157417\n",
      "Epoch: 120 | MAE Train Loss: 0.01793040707707405 | MAE Test Loss: 0.04101995751261711\n",
      "Epoch: 130 | MAE Train Loss: 0.01449323259294033 | MAE Test Loss: 0.03343429043889046\n",
      "Epoch: 140 | MAE Train Loss: 0.011064786463975906 | MAE Test Loss: 0.025161748751997948\n",
      "Epoch: 150 | MAE Train Loss: 0.007626786828041077 | MAE Test Loss: 0.016889220103621483\n",
      "Epoch: 160 | MAE Train Loss: 0.00419129803776741 | MAE Test Loss: 0.009303552098572254\n",
      "Epoch: 170 | MAE Train Loss: 0.0025885060895234346 | MAE Test Loss: 0.008447891101241112\n",
      "Epoch: 180 | MAE Train Loss: 0.0025885060895234346 | MAE Test Loss: 0.008447891101241112\n",
      "Epoch: 190 | MAE Train Loss: 0.0025885060895234346 | MAE Test Loss: 0.008447891101241112\n"
     ]
    }
   ],
   "source": [
    "epochs = 200\n",
    "\n",
    "epoch_count = []\n",
    "train_loss_values = []\n",
    "test_loss_values = []\n",
    "\n",
    "for epoch in range(1, epochs):\n",
    "    model_0.train()\n",
    "    y_pred = model_0(X_train)\n",
    "    loss = loss_fn(y_pred, y_train)\n",
    "    optimizer.zero_grad()\n",
    "    loss.backward()\n",
    "    optimizer.step()\n",
    "\n",
    "    model_0.eval()\n",
    "    with torch.inference_mode():\n",
    "        test_pred = model_0(X_test)\n",
    "        test_loss = loss_fn(test_pred, y_test)\n",
    "\n",
    "        if epoch % 10 == 0:\n",
    "            epoch_count.append(epoch)\n",
    "            train_loss_values.append(loss.detach().numpy())\n",
    "            test_loss_values.append(test_loss.detach().numpy())\n",
    "            print(f\"Epoch: {epoch} | MAE Train Loss: {loss} | MAE Test Loss: {test_loss}\")"
   ]
  },
  {
   "cell_type": "code",
   "execution_count": 14,
   "id": "2dcbbe33-91a6-4d19-b2bc-fb7a8c50fc8b",
   "metadata": {},
   "outputs": [
    {
     "data": {
      "text/plain": [
       "<matplotlib.legend.Legend at 0x11c9019d0>"
      ]
     },
     "execution_count": 14,
     "metadata": {},
     "output_type": "execute_result"
    },
    {
     "data": {
      "image/png": "[encoded data removed]",
      "text/plain": [
       "<Figure size 640x480 with 1 Axes>"
      ]
     },
     "metadata": {},
     "output_type": "display_data"
    }
   ],
   "source": [
    "plt.plot(epoch_count, train_loss_values, label=\"Train loss\")\n",
    "plt.plot(epoch_count, test_loss_values, label=\"Test loss\")\n",
    "plt.title(\"Training and test loss curves\")\n",
    "plt.xlabel(\"Epochs\")\n",
    "plt.ylabel(\"Loss\")\n",
    "plt.legend()"
   ]
  },
  {
   "cell_type": "code",
   "execution_count": 15,
   "id": "9462af43-2753-4602-a7e2-49cffe352203",
   "metadata": {},
   "outputs": [
    {
     "name": "stdout",
     "output_type": "stream",
     "text": [
      "The model learned the following values for weights and bias:\n",
      "OrderedDict([('weight', tensor([0.6951])), ('bias', tensor([0.2993]))])\n",
      "\n",
      "And the original values for weights and bias are:\n",
      "weight: 0.7, bias: 0.3\n"
     ]
    }
   ],
   "source": [
    "print(\"The model learned the following values for weights and bias:\")\n",
    "print(model_0.state_dict())\n",
    "print(f\"\\nAnd the original values for weights and bias are:\\nweight: {weight}, bias: {bias}\")"
   ]
  },
  {
   "cell_type": "code",
   "execution_count": 17,
   "id": "66578b3e-14b6-4a69-a7f1-65c136062a71",
   "metadata": {},
   "outputs": [
    {
     "data": {
      "text/plain": [
       "tensor([[0.8554],\n",
       "        [0.8693],\n",
       "        [0.8832],\n",
       "        [0.8971],\n",
       "        [0.9110],\n",
       "        [0.9249],\n",
       "        [0.9388],\n",
       "        [0.9527],\n",
       "        [0.9666],\n",
       "        [0.9805]])"
      ]
     },
     "execution_count": 17,
     "metadata": {},
     "output_type": "execute_result"
    }
   ],
   "source": [
    "model_0.eval()\n",
    "with torch.inference_mode():\n",
    "    y_preds = model_0(X_test)\n",
    "\n",
    "y_preds"
   ]
  },
  {
   "cell_type": "code",
   "execution_count": 19,
   "id": "d01f69ca-654f-4b2e-a498-1392fcb35134",
   "metadata": {},
   "outputs": [
    {
     "data": {
      "image/png": "[encoded data removed]",
      "text/plain": [
       "<Figure size 640x480 with 1 Axes>"
      ]
     },
     "metadata": {},
     "output_type": "display_data"
    }
   ],
   "source": [
    "plot_predictions(predictions=y_preds)"
   ]
  },
  {
   "cell_type": "code",
   "execution_count": null,
   "id": "ee0d7d1d-986b-426c-bb35-59116aead9ab",
   "metadata": {},
   "outputs": [],
   "source": []
  },
  {
   "cell_type": "code",
   "execution_count": null,
   "id": "4949d103-07bb-4145-bce3-a86abde458f6",
   "metadata": {},
   "outputs": [],
   "source": []
  },
  {
   "cell_type": "code",
   "execution_count": null,
   "id": "786c4666-5d3e-4aa3-9238-6fb5ef2b22bc",
   "metadata": {},
   "outputs": [],
   "source": []
  },
  {
   "cell_type": "code",
   "execution_count": null,
   "id": "d59a8a77-cdd2-470a-94e3-f4b38625a754",
   "metadata": {},
   "outputs": [],
   "source": []
  },
  {
   "cell_type": "code",
   "execution_count": null,
   "id": "b75b29b7-df07-4e05-8b09-c1e3e3de909f",
   "metadata": {},
   "outputs": [],
   "source": []
  },
  {
   "cell_type": "code",
   "execution_count": null,
   "id": "bfc686ee-cdf8-4ddd-9e14-aa2b1d0ef781",
   "metadata": {},
   "outputs": [],
   "source": []
  },
  {
   "cell_type": "code",
   "execution_count": null,
   "id": "c32fb2b0-e0ee-445d-b901-beb19998210c",
   "metadata": {},
   "outputs": [],
   "source": []
  },
  {
   "cell_type": "code",
   "execution_count": null,
   "id": "d6439c53-a68c-48dd-90cf-bae43e423566",
   "metadata": {},
   "outputs": [],
   "source": []
  },
  {
   "cell_type": "code",
   "execution_count": null,
   "id": "5cfcbd63-6986-4249-be74-62ef1e9df922",
   "metadata": {},
   "outputs": [],
   "source": []
  },
  {
   "cell_type": "code",
   "execution_count": null,
   "id": "73728a9f-1152-44a9-820e-c3e383fcde55",
   "metadata": {},
   "outputs": [],
   "source": []
  },
  {
   "cell_type": "code",
   "execution_count": null,
   "id": "f6ba7b04-723c-40c7-ab6f-75c461f02a5c",
   "metadata": {},
   "outputs": [],
   "source": []
  },
  {
   "cell_type": "code",
   "execution_count": null,
   "id": "c99ef4e6-5d71-4e93-94e1-e7b2f3dc859e",
   "metadata": {},
   "outputs": [],
   "source": []
  }
 ],
 "metadata": {
  "kernelspec": {
   "display_name": "Python 3 (ipykernel)",
   "language": "python",
   "name": "python3"
  },
  "language_info": {
   "codemirror_mode": {
    "name": "ipython",
    "version": 3
   },
   "file_extension": ".py",
   "mimetype": "text/x-python",
   "name": "python",
   "nbconvert_exporter": "python",
   "pygments_lexer": "ipython3",
   "version": "3.11.9"
  }
 },
 "nbformat": 4,
 "nbformat_minor": 5
}
